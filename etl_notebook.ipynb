{
 "cells": [
  {
   "cell_type": "markdown",
   "metadata": {
    "editable": true
   },
   "source": [
    "# [DEV ONLY] Clean up workspace"
   ]
  },
  {
   "cell_type": "code",
   "execution_count": null,
   "metadata": {
    "editable": true
   },
   "outputs": [],
   "source": [
    "!rm -r data_out"
   ]
  },
  {
   "cell_type": "code",
   "execution_count": null,
   "metadata": {
    "editable": true
   },
   "outputs": [],
   "source": [
    "!mkdir data_out"
   ]
  },
  {
   "cell_type": "code",
   "execution_count": 1,
   "metadata": {
    "editable": true
   },
   "outputs": [
    {
     "data": {
      "application/vnd.jupyter.widget-view+json": {
       "model_id": "9876ea2d69af4ac29665ab7716789762",
       "version_major": 2,
       "version_minor": 0
      },
      "text/plain": [
       "VBox()"
      ]
     },
     "metadata": {},
     "output_type": "display_data"
    },
    {
     "name": "stdout",
     "output_type": "stream",
     "text": [
      "Starting Spark application\n"
     ]
    },
    {
     "data": {
      "text/html": [
       "<table>\n",
       "<tr><th>ID</th><th>YARN Application ID</th><th>Kind</th><th>State</th><th>Spark UI</th><th>Driver log</th><th>Current session?</th></tr><tr><td>1</td><td>application_1609942607041_0002</td><td>pyspark</td><td>idle</td><td><a target=\"_blank\" href=\"http://ip-172-31-1-120.us-east-2.compute.internal:20888/proxy/application_1609942607041_0002/\">Link</a></td><td><a target=\"_blank\" href=\"http://ip-172-31-6-66.us-east-2.compute.internal:8042/node/containerlogs/container_1609942607041_0002_01_000001/livy\">Link</a></td><td>✔</td></tr></table>"
      ],
      "text/plain": [
       "<IPython.core.display.HTML object>"
      ]
     },
     "metadata": {},
     "output_type": "display_data"
    },
    {
     "data": {
      "application/vnd.jupyter.widget-view+json": {
       "model_id": "",
       "version_major": 2,
       "version_minor": 0
      },
      "text/plain": [
       "FloatProgress(value=0.0, bar_style='info', description='Progress:', layout=Layout(height='25px', width='50%'),…"
      ]
     },
     "metadata": {},
     "output_type": "display_data"
    },
    {
     "name": "stdout",
     "output_type": "stream",
     "text": [
      "SparkSession available as 'spark'.\n"
     ]
    },
    {
     "data": {
      "application/vnd.jupyter.widget-view+json": {
       "model_id": "",
       "version_major": 2,
       "version_minor": 0
      },
      "text/plain": [
       "FloatProgress(value=0.0, bar_style='info', description='Progress:', layout=Layout(height='25px', width='50%'),…"
      ]
     },
     "metadata": {},
     "output_type": "display_data"
    }
   ],
   "source": [
    "import configparser\n",
    "from datetime import datetime\n",
    "import os\n",
    "\n",
    "from pyspark.sql import SparkSession\n",
    "from pyspark.sql.functions import *\n",
    "from pyspark.sql.types import *"
   ]
  },
  {
   "cell_type": "code",
   "execution_count": 9,
   "metadata": {
    "editable": true
   },
   "outputs": [
    {
     "data": {
      "application/vnd.jupyter.widget-view+json": {
       "model_id": "a68c786116fa45faac20248e00d0b964",
       "version_major": 2,
       "version_minor": 0
      },
      "text/plain": [
       "VBox()"
      ]
     },
     "metadata": {},
     "output_type": "display_data"
    },
    {
     "data": {
      "application/vnd.jupyter.widget-view+json": {
       "model_id": "",
       "version_major": 2,
       "version_minor": 0
      },
      "text/plain": [
       "FloatProgress(value=0.0, bar_style='info', description='Progress:', layout=Layout(height='25px', width='50%'),…"
      ]
     },
     "metadata": {},
     "output_type": "display_data"
    },
    {
     "name": "stderr",
     "output_type": "stream",
     "text": [
      "'AWS'\n",
      "Traceback (most recent call last):\n",
      "  File \"/usr/lib64/python3.6/configparser.py\", line 959, in __getitem__\n",
      "    raise KeyError(key)\n",
      "KeyError: 'AWS'\n",
      "\n"
     ]
    }
   ],
   "source": [
    "config = configparser.ConfigParser()\n",
    "config.read('dl.cfg')\n",
    "\n",
    "os.environ['AWS_ACCESS_KEY_ID'] = config['AWS']['AWS_ACCESS_KEY_ID']\n",
    "os.environ['AWS_SECRET_ACCESS_KEY'] = config['AWS']['AWS_SECRET_ACCESS_KEY']"
   ]
  },
  {
   "cell_type": "code",
   "execution_count": 3,
   "metadata": {
    "editable": true
   },
   "outputs": [
    {
     "data": {
      "application/vnd.jupyter.widget-view+json": {
       "model_id": "01377386a2664f829580dbc1b2a150cf",
       "version_major": 2,
       "version_minor": 0
      },
      "text/plain": [
       "VBox()"
      ]
     },
     "metadata": {},
     "output_type": "display_data"
    },
    {
     "data": {
      "application/vnd.jupyter.widget-view+json": {
       "model_id": "",
       "version_major": 2,
       "version_minor": 0
      },
      "text/plain": [
       "FloatProgress(value=0.0, bar_style='info', description='Progress:', layout=Layout(height='25px', width='50%'),…"
      ]
     },
     "metadata": {},
     "output_type": "display_data"
    }
   ],
   "source": [
    "def create_spark_session():\n",
    "    spark = SparkSession \\\n",
    "        .builder \\\n",
    "        .config(\"spark.jars.packages\", \"org.apache.hadoop:hadoop-aws:2.7.0\") \\\n",
    "        .getOrCreate()\n",
    "    return spark\n",
    "\n",
    "spark = create_spark_session()"
   ]
  },
  {
   "cell_type": "markdown",
   "metadata": {
    "editable": true
   },
   "source": [
    "## SONG_DATA"
   ]
  },
  {
   "cell_type": "code",
   "execution_count": 4,
   "metadata": {
    "editable": true
   },
   "outputs": [
    {
     "data": {
      "application/vnd.jupyter.widget-view+json": {
       "model_id": "6a2ab65c8e4b43e1abd8017b8705992c",
       "version_major": 2,
       "version_minor": 0
      },
      "text/plain": [
       "VBox()"
      ]
     },
     "metadata": {},
     "output_type": "display_data"
    },
    {
     "data": {
      "application/vnd.jupyter.widget-view+json": {
       "model_id": "",
       "version_major": 2,
       "version_minor": 0
      },
      "text/plain": [
       "FloatProgress(value=0.0, bar_style='info', description='Progress:', layout=Layout(height='25px', width='50%'),…"
      ]
     },
     "metadata": {},
     "output_type": "display_data"
    }
   ],
   "source": [
    "def process_song_data(spark, input_data, output_data):\n",
    "    '''\n",
    "    Load and process the raw song data. Load JSON files and extract 'songs' and 'artists' tables.\n",
    "    Store both tables via spark as parquet files.\n",
    "\n",
    "    Parameters\n",
    "    ----------\n",
    "    spark : spark instance\n",
    "        \n",
    "    input_data : str\n",
    "        Path to input data (json files)\n",
    "    output_data : str\n",
    "        Path to output data (parquet files) - could be local or S3 bucket.\n",
    "\n",
    "\n",
    "    Return\n",
    "    ------\n",
    "    songs_table : PySpark dataframe\n",
    "        Content of the dimensions \"songs\"\n",
    "    artists_table : PySpark dataframe\n",
    "        Content of the dimensions \"artists\"\n",
    "    '''\n",
    "    # get filepath to song data file\n",
    "    song_data = input_data + '/song_data/*/*/*/*.json'\n",
    "    \n",
    "    # Predefined schema\n",
    "    songSchema = StructType([\n",
    "        StructField('num_songs',            IntegerType())\n",
    "        , StructField('artist_id',          StringType())\n",
    "        , StructField('artist_latitude',    DoubleType())\n",
    "        , StructField('artist_longitude',   DoubleType())\n",
    "        , StructField('artist_location',    StringType())\n",
    "        , StructField('artist_name',        StringType())\n",
    "        , StructField('song_id',            StringType())\n",
    "        , StructField('title',              StringType())\n",
    "        , StructField('duration',           DoubleType())\n",
    "        , StructField('year',               IntegerType())\n",
    "    ])\n",
    "    \n",
    "    # read song data file\n",
    "    df = spark.read.json(song_data, schema=songSchema)\n",
    "    if 's3' in input_data.lower():\n",
    "        print('[SUCCESS] reading song data from AWS S3 bucket.')\n",
    "    else:\n",
    "        print('[SUCCESS] reading song data from local file system.')\n",
    "\n",
    "    \n",
    "    # extract columns to create songs table\n",
    "    # cols for table 'songs': song_id, title, artist_id, year, duration --> only distinct values\n",
    "    songs_table = df.select('song_id', 'title', 'artist_id', 'year', 'duration').dropDuplicates()\n",
    "    \n",
    "    # write songs table to parquet files partitioned by year and artist\n",
    "    #songs_table.write.format('parquet').mode('overwrite').partitionBy('year', 'artist_id').saveAsTable(output_data + '/songs') # storing on a DBMS (e.g. Hadoop/Hive)\n",
    "    songs_table.write.parquet(output_data + '/songs', mode='overwrite', partitionBy=['year', 'artist_id'])\n",
    "    #songs_table.write.format('parquet').mode('append').partitionBy('year', 'artist_id').saveAsTable('songs')\n",
    "\n",
    "    # extract columns to create artists table\n",
    "    artists_table = df.select('artist_id', col('artist_name').alias('name'), col('artist_location').alias('location')\n",
    "                              , col('artist_latitude').alias('latitude'), col('artist_longitude').alias('longitude')).dropDuplicates()\n",
    "    \n",
    "    # write artists table to parquet files\n",
    "    #artists_table.write.format('parquet').mode('overwrite').saveAsTable('artists') # storing on a DBMS (e.g. Hadoop/Hive)\n",
    "    artists_table.write.parquet(output_data + '/artists', mode='overwrite')\n",
    "    \n",
    "    return songs_table, artists_table"
   ]
  },
  {
   "cell_type": "code",
   "execution_count": 5,
   "metadata": {
    "editable": true
   },
   "outputs": [
    {
     "data": {
      "application/vnd.jupyter.widget-view+json": {
       "model_id": "2bd7d5e99dd74dcb8cecbceb29d3c91d",
       "version_major": 2,
       "version_minor": 0
      },
      "text/plain": [
       "VBox()"
      ]
     },
     "metadata": {},
     "output_type": "display_data"
    },
    {
     "data": {
      "application/vnd.jupyter.widget-view+json": {
       "model_id": "",
       "version_major": 2,
       "version_minor": 0
      },
      "text/plain": [
       "FloatProgress(value=0.0, bar_style='info', description='Progress:', layout=Layout(height='25px', width='50%'),…"
      ]
     },
     "metadata": {},
     "output_type": "display_data"
    }
   ],
   "source": [
    "def process_log_data(spark, input_data, output_data):\n",
    "    '''\n",
    "    Load and process the raw log data. Load JSON files and extract 'users', 'time' and 'songplays' tables.\n",
    "    Store both tables via spark as parquet files.\n",
    "\n",
    "    Parameters\n",
    "    ----------\n",
    "    spark : spark instance\n",
    "        \n",
    "    input_data : str\n",
    "        Path to input data (json files)\n",
    "    output_data : str\n",
    "        Path to output data (parquet files) - could be local or S3 bucket.\n",
    "\n",
    "\n",
    "    Return\n",
    "    ------\n",
    "    users_table : PySpark dataframe\n",
    "        Content of the dimensions \"users\"\n",
    "    time_table : PySpark dataframe\n",
    "        Content of the dimensions \"time\"\n",
    "    songplays_table: PySpark dataframe\n",
    "        Content of the fact table \"songplays\"\n",
    "    '''\n",
    "    # get filepath to song data file\n",
    "    song_data = input_data + '/song_data/*/*/*/*.json'\n",
    "    #log_data = input_data + '/log-data/*.json'\n",
    "    log_data = input_data + '/log_data/*/*/*.json'\n",
    "    \n",
    "    # Predefined schema\n",
    "    logSchema = StructType([\n",
    "        StructField('artist',           StringType())\n",
    "        , StructField('auth',           StringType())\n",
    "        , StructField('firstName',      StringType())\n",
    "        , StructField('gender',         StringType())\n",
    "        , StructField('itemInSession',  IntegerType())\n",
    "        , StructField('lastName',       StringType())\n",
    "        , StructField('length',         DoubleType())\n",
    "        , StructField('level',          StringType())\n",
    "        , StructField('location',       StringType())\n",
    "        , StructField('method',         StringType())\n",
    "        , StructField('page',           StringType())\n",
    "        , StructField('registration',   StringType())\n",
    "        , StructField('sessionId',      IntegerType())\n",
    "        , StructField('song',           StringType())\n",
    "        , StructField('status',         IntegerType())\n",
    "        , StructField('ts',             IntegerType())\n",
    "        , StructField('userAgent',      IntegerType())\n",
    "        , StructField('userId',         IntegerType())\n",
    "    ])\n",
    "    \n",
    "    # read song data file\n",
    "    df = spark.read.json(log_data)\n",
    "    if 's3' in input_data.lower():\n",
    "        print('[SUCCESS] reading song data from AWS S3 bucket.')\n",
    "    else:\n",
    "        print('[SUCCESS] reading song data from local file system.')\n",
    "    \n",
    "    # filter by actions for song plays\n",
    "    print('Dataframe unprocessd: ', str((df.count(), len(df.columns))))\n",
    "    df = df.filter(lower(col('page')) == 'nextsong')\n",
    "    print('Dataframe processed:  ', str((df.count(), len(df.columns))))\n",
    "    \n",
    "    \n",
    "    # extract columns to create songs table\n",
    "    # cols for table 'users': user_id, first_name, last_name, gender, level --> distinct by 'user_id'\n",
    "    users_table = df.select(col('userId').alias('user_id'), col('firstName').alias('first_name'), col('lastName').alias('last_name')\n",
    "                           , 'gender', 'level').dropDuplicates()\n",
    "    \n",
    "    \n",
    "    # write users table to parquet files\n",
    "    #users_table.write.format('parquet').mode('overwrite').saveAsTable('users') # storing on a DBMS (e.g. Hadoop/Hive)\n",
    "    users_table.write.parquet(output_data + '/users', mode='overwrite')\n",
    "\n",
    "    # create timestamp column from original timestamp column\n",
    "    # cols for table 'time': start_time, hour, day, week, month, year, weekday\n",
    "    #get_timestamp = \n",
    "    time_table = df.select('ts').dropDuplicates() # get distinct timestamp\n",
    "    \n",
    "    # create datetime column from original timestamp column\n",
    "    time_table = time_table.withColumn('start_time', to_timestamp(col('ts') / 1000))\n",
    "    #get_datetime = udf()\n",
    "    #df = \n",
    "    \n",
    "    # extract columns to create time table\n",
    "    time_table = time_table.select('start_time', hour(col('start_time')).alias('hour'), dayofweek(col('start_time')).alias('day')\n",
    "                                   , weekofyear(col('start_time')).alias('week'), month(col('start_time')).alias('month')\n",
    "                                   , year(col('start_time')).alias('year'), weekofyear(col('start_time')).alias('weekday'))\n",
    "    \n",
    "    # write time table to parquet files partitioned by year and month\n",
    "    #time_table.write.format('parquet').mode('overwrite').saveAsTable('time') # storing on a DBMS (e.g. Hadoop/Hive)\n",
    "    time_table.write.parquet(output_data + '/time', mode='overwrite', partitionBy=['year', 'month']) # partition to spread the amount of data\n",
    "\n",
    "    # read in song data to use for songplays table\n",
    "    song_df = spark.read.json(song_data)\n",
    "    #song_df = spark.read.load(output_data + '/songs', format='parquet')\n",
    "\n",
    "    # extract columns from joined song and log datasets to create songplays table\n",
    "    songplays_table = df.join(song_df, [df.artist == song_df.artist_name\n",
    "                                       , df.song == song_df.title], how='inner')\n",
    "    songplays_table = songplays_table.withColumn('start_time', to_timestamp(col('ts') / 1000)) # prepare timestamp\n",
    "    songplays_table = songplays_table.join(time_table.select('start_time', 'month')\n",
    "                                           , on=['start_time'], how='inner')\n",
    "    songplays_table = songplays_table.withColumn('songplay_id', monotonically_increasing_id()) # generate an artificial ID\n",
    "\n",
    "    # merge table parts & select columns\n",
    "    # cols for 'songplays': songplay_id, start_time, user_id, level, song_id, artist_id, session_id, location, user_agent\n",
    "    songplays_table = songplays_table.select('songplay_id', 'start_time', col('userId').alias('user_id'), 'level', 'song_id', 'artist_id'\n",
    "                             , col('sessionId').alias('session_id'), 'location', col('userAgent').alias('user_agent'), 'year', 'month')\n",
    "\n",
    "    # write songplays table to parquet files partitioned by year and month\n",
    "    songplays_table.write.parquet(output_data + '/songplays', mode='overwrite', partitionBy=['year', 'month'])\n",
    "    if 's3' in output_data.lower():\n",
    "        print('[SUCCESS] writing songplays data to AWS S3 bucket.')\n",
    "    else:\n",
    "        print('[SUCCESS] writing songplays data to local file system.')\n",
    "    \n",
    "    \n",
    "    return users_table, time_table, songplays_table"
   ]
  },
  {
   "cell_type": "markdown",
   "metadata": {
    "editable": true
   },
   "source": [
    "## Execute functions"
   ]
  },
  {
   "cell_type": "code",
   "execution_count": 6,
   "metadata": {
    "editable": true
   },
   "outputs": [
    {
     "data": {
      "application/vnd.jupyter.widget-view+json": {
       "model_id": "c5b8f32d80c0412c8851ec386623b8bf",
       "version_major": 2,
       "version_minor": 0
      },
      "text/plain": [
       "VBox()"
      ]
     },
     "metadata": {},
     "output_type": "display_data"
    },
    {
     "data": {
      "application/vnd.jupyter.widget-view+json": {
       "model_id": "",
       "version_major": 2,
       "version_minor": 0
      },
      "text/plain": [
       "FloatProgress(value=0.0, bar_style='info', description='Progress:', layout=Layout(height='25px', width='50%'),…"
      ]
     },
     "metadata": {},
     "output_type": "display_data"
    },
    {
     "name": "stdout",
     "output_type": "stream",
     "text": [
      "[SUCCESS] reading song data from AWS S3 bucket.\n",
      "nrows of:\n",
      "\tsongs:  14896\n",
      "\tartists:  10025"
     ]
    }
   ],
   "source": [
    "# input & output paths\n",
    "#input_data = 'data_in'\n",
    "#output_data = 'data_out'\n",
    "\n",
    "input_data = 's3://udacity-dend'\n",
    "output_data = 's3://dend-ms-project-4/data_out'\n",
    "\n",
    "var_return1, var_return2 = process_song_data(spark, input_data, output_data)\n",
    "print('nrows of:')\n",
    "print('\\tsongs: ', var_return1.count())\n",
    "print('\\tartists: ', var_return2.count())"
   ]
  },
  {
   "cell_type": "code",
   "execution_count": 7,
   "metadata": {},
   "outputs": [
    {
     "data": {
      "application/vnd.jupyter.widget-view+json": {
       "model_id": "f6d0451d839c43e0a4917aae80e6b50b",
       "version_major": 2,
       "version_minor": 0
      },
      "text/plain": [
       "VBox()"
      ]
     },
     "metadata": {},
     "output_type": "display_data"
    },
    {
     "data": {
      "application/vnd.jupyter.widget-view+json": {
       "model_id": "",
       "version_major": 2,
       "version_minor": 0
      },
      "text/plain": [
       "FloatProgress(value=0.0, bar_style='info', description='Progress:', layout=Layout(height='25px', width='50%'),…"
      ]
     },
     "metadata": {},
     "output_type": "display_data"
    },
    {
     "name": "stdout",
     "output_type": "stream",
     "text": [
      "[SUCCESS] reading song data from AWS S3 bucket.\n",
      "Dataframe unprocessd:  (8056, 18)\n",
      "Dataframe processed:   (6820, 18)\n",
      "[SUCCESS] writing songplays data to AWS S3 bucket.\n",
      "nrows of:\n",
      "\tusers:  104\n",
      "\ttime:  6813\n",
      "\tsongsplays:  333"
     ]
    }
   ],
   "source": [
    "var_return3, var_return4, var_return5 = process_log_data(spark, input_data, output_data)\n",
    "print('nrows of:')\n",
    "print('\\tusers: ', var_return3.count())\n",
    "print('\\ttime: ', var_return4.count())\n",
    "print('\\tsongsplays: ', var_return5.count())"
   ]
  }
 ],
 "metadata": {
  "kernelspec": {
   "display_name": "PySpark",
   "language": "",
   "name": "pysparkkernel"
  },
  "language_info": {
   "codemirror_mode": {
    "name": "python",
    "version": 2
   },
   "mimetype": "text/x-python",
   "name": "pyspark",
   "pygments_lexer": "python2"
  }
 },
 "nbformat": 4,
 "nbformat_minor": 4
}
